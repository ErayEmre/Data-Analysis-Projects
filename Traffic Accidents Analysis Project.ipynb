{
 "cells": [
  {
   "cell_type": "markdown",
   "id": "a2bf19d2",
   "metadata": {},
   "source": [
    "# Traffic Accidents Analysis Project\n",
    "\n",
    "## 1.6 MILLION UK TRAFFIC ACCIDENTS\n",
    "---\n",
    "**Dataset Link:** https://www.kaggle.com/daveianhickey/2000-16-traffic-flow-england-scotland-wales\n",
    "\n",
    "---"
   ]
  },
  {
   "cell_type": "markdown",
   "id": "6c7aa5af",
   "metadata": {},
   "source": [
    "### Importing Required Libraries"
   ]
  },
  {
   "cell_type": "code",
   "execution_count": 1,
   "id": "fdb81109",
   "metadata": {},
   "outputs": [],
   "source": [
    "import pandas as pd\n",
    "import numpy as np\n",
    "import matplotlib.pyplot as plt\n",
    "import seaborn as sns"
   ]
  },
  {
   "cell_type": "markdown",
   "id": "527731ae",
   "metadata": {},
   "source": [
    "### Reading CSV(Comma-Separated Values) File "
   ]
  },
  {
   "cell_type": "code",
   "execution_count": 2,
   "id": "ba1974dd",
   "metadata": {},
   "outputs": [],
   "source": [
    "data_2005to2007 = pd.read_csv(\"accidents_2005_to_2007.csv\",low_memory=False)\n",
    "data_2009to2011 = pd.read_csv(\"accidents_2009_to_2011.csv\",low_memory=False)\n",
    "data_2012to2014 = pd.read_csv(\"accidents_2012_to_2014.csv\",low_memory=False)"
   ]
  },
  {
   "cell_type": "code",
   "execution_count": 3,
   "id": "c86fb16f",
   "metadata": {},
   "outputs": [
    {
     "name": "stdout",
     "output_type": "stream",
     "text": [
      "Number of Row :570011, Number of Column :33 \n",
      "\n",
      "Number of Row :469442, Number of Column :33 \n",
      "\n",
      "Number of Row :464697, Number of Column :33 \n",
      "\n"
     ]
    }
   ],
   "source": [
    "for i in [data_2005to2007, data_2009to2011, data_2012to2014]:\n",
    "    print(f\"Number of Row :{i.shape[0]}, Number of Column :{i.shape[1]} \\n\")"
   ]
  },
  {
   "cell_type": "markdown",
   "id": "c929226d",
   "metadata": {},
   "source": [
    "### Separate DataFrames Concatenate"
   ]
  },
  {
   "cell_type": "code",
   "execution_count": 4,
   "id": "27b5e73a",
   "metadata": {},
   "outputs": [
    {
     "data": {
      "text/html": [
       "<div>\n",
       "<style scoped>\n",
       "    .dataframe tbody tr th:only-of-type {\n",
       "        vertical-align: middle;\n",
       "    }\n",
       "\n",
       "    .dataframe tbody tr th {\n",
       "        vertical-align: top;\n",
       "    }\n",
       "\n",
       "    .dataframe thead th {\n",
       "        text-align: right;\n",
       "    }\n",
       "</style>\n",
       "<table border=\"1\" class=\"dataframe\">\n",
       "  <thead>\n",
       "    <tr style=\"text-align: right;\">\n",
       "      <th></th>\n",
       "      <th>Accident_Index</th>\n",
       "      <th>Location_Easting_OSGR</th>\n",
       "      <th>Location_Northing_OSGR</th>\n",
       "      <th>Longitude</th>\n",
       "      <th>Latitude</th>\n",
       "      <th>Police_Force</th>\n",
       "      <th>Accident_Severity</th>\n",
       "      <th>Number_of_Vehicles</th>\n",
       "      <th>Number_of_Casualties</th>\n",
       "      <th>Date</th>\n",
       "      <th>...</th>\n",
       "      <th>Pedestrian_Crossing-Physical_Facilities</th>\n",
       "      <th>Light_Conditions</th>\n",
       "      <th>Weather_Conditions</th>\n",
       "      <th>Road_Surface_Conditions</th>\n",
       "      <th>Special_Conditions_at_Site</th>\n",
       "      <th>Carriageway_Hazards</th>\n",
       "      <th>Urban_or_Rural_Area</th>\n",
       "      <th>Did_Police_Officer_Attend_Scene_of_Accident</th>\n",
       "      <th>LSOA_of_Accident_Location</th>\n",
       "      <th>Year</th>\n",
       "    </tr>\n",
       "  </thead>\n",
       "  <tbody>\n",
       "    <tr>\n",
       "      <th>0</th>\n",
       "      <td>200501BS00001</td>\n",
       "      <td>525680.0</td>\n",
       "      <td>178240.0</td>\n",
       "      <td>-0.191170</td>\n",
       "      <td>51.489096</td>\n",
       "      <td>1</td>\n",
       "      <td>2</td>\n",
       "      <td>1</td>\n",
       "      <td>1</td>\n",
       "      <td>04/01/2005</td>\n",
       "      <td>...</td>\n",
       "      <td>Zebra crossing</td>\n",
       "      <td>Daylight: Street light present</td>\n",
       "      <td>Raining without high winds</td>\n",
       "      <td>Wet/Damp</td>\n",
       "      <td>None</td>\n",
       "      <td>None</td>\n",
       "      <td>1</td>\n",
       "      <td>Yes</td>\n",
       "      <td>E01002849</td>\n",
       "      <td>2005</td>\n",
       "    </tr>\n",
       "    <tr>\n",
       "      <th>1</th>\n",
       "      <td>200501BS00002</td>\n",
       "      <td>524170.0</td>\n",
       "      <td>181650.0</td>\n",
       "      <td>-0.211708</td>\n",
       "      <td>51.520075</td>\n",
       "      <td>1</td>\n",
       "      <td>3</td>\n",
       "      <td>1</td>\n",
       "      <td>1</td>\n",
       "      <td>05/01/2005</td>\n",
       "      <td>...</td>\n",
       "      <td>Pedestrian phase at traffic signal junction</td>\n",
       "      <td>Darkness: Street lights present and lit</td>\n",
       "      <td>Fine without high winds</td>\n",
       "      <td>Dry</td>\n",
       "      <td>None</td>\n",
       "      <td>None</td>\n",
       "      <td>1</td>\n",
       "      <td>Yes</td>\n",
       "      <td>E01002909</td>\n",
       "      <td>2005</td>\n",
       "    </tr>\n",
       "    <tr>\n",
       "      <th>2</th>\n",
       "      <td>200501BS00003</td>\n",
       "      <td>524520.0</td>\n",
       "      <td>182240.0</td>\n",
       "      <td>-0.206458</td>\n",
       "      <td>51.525301</td>\n",
       "      <td>1</td>\n",
       "      <td>3</td>\n",
       "      <td>2</td>\n",
       "      <td>1</td>\n",
       "      <td>06/01/2005</td>\n",
       "      <td>...</td>\n",
       "      <td>No physical crossing within 50 meters</td>\n",
       "      <td>Darkness: Street lights present and lit</td>\n",
       "      <td>Fine without high winds</td>\n",
       "      <td>Dry</td>\n",
       "      <td>None</td>\n",
       "      <td>None</td>\n",
       "      <td>1</td>\n",
       "      <td>Yes</td>\n",
       "      <td>E01002857</td>\n",
       "      <td>2005</td>\n",
       "    </tr>\n",
       "    <tr>\n",
       "      <th>3</th>\n",
       "      <td>200501BS00004</td>\n",
       "      <td>526900.0</td>\n",
       "      <td>177530.0</td>\n",
       "      <td>-0.173862</td>\n",
       "      <td>51.482442</td>\n",
       "      <td>1</td>\n",
       "      <td>3</td>\n",
       "      <td>1</td>\n",
       "      <td>1</td>\n",
       "      <td>07/01/2005</td>\n",
       "      <td>...</td>\n",
       "      <td>No physical crossing within 50 meters</td>\n",
       "      <td>Daylight: Street light present</td>\n",
       "      <td>Fine without high winds</td>\n",
       "      <td>Dry</td>\n",
       "      <td>None</td>\n",
       "      <td>None</td>\n",
       "      <td>1</td>\n",
       "      <td>Yes</td>\n",
       "      <td>E01002840</td>\n",
       "      <td>2005</td>\n",
       "    </tr>\n",
       "    <tr>\n",
       "      <th>4</th>\n",
       "      <td>200501BS00005</td>\n",
       "      <td>528060.0</td>\n",
       "      <td>179040.0</td>\n",
       "      <td>-0.156618</td>\n",
       "      <td>51.495752</td>\n",
       "      <td>1</td>\n",
       "      <td>3</td>\n",
       "      <td>1</td>\n",
       "      <td>1</td>\n",
       "      <td>10/01/2005</td>\n",
       "      <td>...</td>\n",
       "      <td>No physical crossing within 50 meters</td>\n",
       "      <td>Darkness: Street lighting unknown</td>\n",
       "      <td>Fine without high winds</td>\n",
       "      <td>Wet/Damp</td>\n",
       "      <td>None</td>\n",
       "      <td>None</td>\n",
       "      <td>1</td>\n",
       "      <td>Yes</td>\n",
       "      <td>E01002863</td>\n",
       "      <td>2005</td>\n",
       "    </tr>\n",
       "    <tr>\n",
       "      <th>...</th>\n",
       "      <td>...</td>\n",
       "      <td>...</td>\n",
       "      <td>...</td>\n",
       "      <td>...</td>\n",
       "      <td>...</td>\n",
       "      <td>...</td>\n",
       "      <td>...</td>\n",
       "      <td>...</td>\n",
       "      <td>...</td>\n",
       "      <td>...</td>\n",
       "      <td>...</td>\n",
       "      <td>...</td>\n",
       "      <td>...</td>\n",
       "      <td>...</td>\n",
       "      <td>...</td>\n",
       "      <td>...</td>\n",
       "      <td>...</td>\n",
       "      <td>...</td>\n",
       "      <td>...</td>\n",
       "      <td>...</td>\n",
       "      <td>...</td>\n",
       "    </tr>\n",
       "    <tr>\n",
       "      <th>464692</th>\n",
       "      <td>2.01E+12</td>\n",
       "      <td>310037.0</td>\n",
       "      <td>597647.0</td>\n",
       "      <td>-3.417278</td>\n",
       "      <td>55.264773</td>\n",
       "      <td>98</td>\n",
       "      <td>2</td>\n",
       "      <td>2</td>\n",
       "      <td>1</td>\n",
       "      <td>07/12/2014</td>\n",
       "      <td>...</td>\n",
       "      <td>No physical crossing within 50 meters</td>\n",
       "      <td>Darkeness: No street lighting</td>\n",
       "      <td>Snowing without high winds</td>\n",
       "      <td>Snow</td>\n",
       "      <td>None</td>\n",
       "      <td>None</td>\n",
       "      <td>2</td>\n",
       "      <td>Yes</td>\n",
       "      <td>NaN</td>\n",
       "      <td>2014</td>\n",
       "    </tr>\n",
       "    <tr>\n",
       "      <th>464693</th>\n",
       "      <td>2.01E+12</td>\n",
       "      <td>321509.0</td>\n",
       "      <td>574063.0</td>\n",
       "      <td>-3.230255</td>\n",
       "      <td>55.054855</td>\n",
       "      <td>98</td>\n",
       "      <td>3</td>\n",
       "      <td>2</td>\n",
       "      <td>2</td>\n",
       "      <td>11/12/2014</td>\n",
       "      <td>...</td>\n",
       "      <td>No physical crossing within 50 meters</td>\n",
       "      <td>Darkeness: No street lighting</td>\n",
       "      <td>Fine without high winds</td>\n",
       "      <td>Snow</td>\n",
       "      <td>None</td>\n",
       "      <td>None</td>\n",
       "      <td>2</td>\n",
       "      <td>Yes</td>\n",
       "      <td>NaN</td>\n",
       "      <td>2014</td>\n",
       "    </tr>\n",
       "    <tr>\n",
       "      <th>464694</th>\n",
       "      <td>2.01E+12</td>\n",
       "      <td>321337.0</td>\n",
       "      <td>566365.0</td>\n",
       "      <td>-3.230826</td>\n",
       "      <td>54.985668</td>\n",
       "      <td>98</td>\n",
       "      <td>3</td>\n",
       "      <td>1</td>\n",
       "      <td>1</td>\n",
       "      <td>09/12/2014</td>\n",
       "      <td>...</td>\n",
       "      <td>No physical crossing within 50 meters</td>\n",
       "      <td>Darkness: Street lights present and lit</td>\n",
       "      <td>Fine without high winds</td>\n",
       "      <td>Frost/Ice</td>\n",
       "      <td>None</td>\n",
       "      <td>None</td>\n",
       "      <td>2</td>\n",
       "      <td>Yes</td>\n",
       "      <td>NaN</td>\n",
       "      <td>2014</td>\n",
       "    </tr>\n",
       "    <tr>\n",
       "      <th>464695</th>\n",
       "      <td>2.01E+12</td>\n",
       "      <td>323869.0</td>\n",
       "      <td>566853.0</td>\n",
       "      <td>-3.191397</td>\n",
       "      <td>54.990446</td>\n",
       "      <td>98</td>\n",
       "      <td>2</td>\n",
       "      <td>3</td>\n",
       "      <td>2</td>\n",
       "      <td>17/12/2014</td>\n",
       "      <td>...</td>\n",
       "      <td>No physical crossing within 50 meters</td>\n",
       "      <td>Darkeness: No street lighting</td>\n",
       "      <td>Raining without high winds</td>\n",
       "      <td>Wet/Damp</td>\n",
       "      <td>None</td>\n",
       "      <td>None</td>\n",
       "      <td>2</td>\n",
       "      <td>Yes</td>\n",
       "      <td>NaN</td>\n",
       "      <td>2014</td>\n",
       "    </tr>\n",
       "    <tr>\n",
       "      <th>464696</th>\n",
       "      <td>2.01E+12</td>\n",
       "      <td>314072.0</td>\n",
       "      <td>579971.0</td>\n",
       "      <td>-3.348426</td>\n",
       "      <td>55.106700</td>\n",
       "      <td>98</td>\n",
       "      <td>3</td>\n",
       "      <td>2</td>\n",
       "      <td>2</td>\n",
       "      <td>24/12/2014</td>\n",
       "      <td>...</td>\n",
       "      <td>No physical crossing within 50 meters</td>\n",
       "      <td>Daylight: Street light present</td>\n",
       "      <td>Fine without high winds</td>\n",
       "      <td>Wet/Damp</td>\n",
       "      <td>None</td>\n",
       "      <td>None</td>\n",
       "      <td>2</td>\n",
       "      <td>Yes</td>\n",
       "      <td>NaN</td>\n",
       "      <td>2014</td>\n",
       "    </tr>\n",
       "  </tbody>\n",
       "</table>\n",
       "<p>1504150 rows × 33 columns</p>\n",
       "</div>"
      ],
      "text/plain": [
       "       Accident_Index  Location_Easting_OSGR  Location_Northing_OSGR  \\\n",
       "0       200501BS00001               525680.0                178240.0   \n",
       "1       200501BS00002               524170.0                181650.0   \n",
       "2       200501BS00003               524520.0                182240.0   \n",
       "3       200501BS00004               526900.0                177530.0   \n",
       "4       200501BS00005               528060.0                179040.0   \n",
       "...               ...                    ...                     ...   \n",
       "464692       2.01E+12               310037.0                597647.0   \n",
       "464693       2.01E+12               321509.0                574063.0   \n",
       "464694       2.01E+12               321337.0                566365.0   \n",
       "464695       2.01E+12               323869.0                566853.0   \n",
       "464696       2.01E+12               314072.0                579971.0   \n",
       "\n",
       "        Longitude   Latitude  Police_Force  Accident_Severity  \\\n",
       "0       -0.191170  51.489096             1                  2   \n",
       "1       -0.211708  51.520075             1                  3   \n",
       "2       -0.206458  51.525301             1                  3   \n",
       "3       -0.173862  51.482442             1                  3   \n",
       "4       -0.156618  51.495752             1                  3   \n",
       "...           ...        ...           ...                ...   \n",
       "464692  -3.417278  55.264773            98                  2   \n",
       "464693  -3.230255  55.054855            98                  3   \n",
       "464694  -3.230826  54.985668            98                  3   \n",
       "464695  -3.191397  54.990446            98                  2   \n",
       "464696  -3.348426  55.106700            98                  3   \n",
       "\n",
       "        Number_of_Vehicles  Number_of_Casualties        Date  ...  \\\n",
       "0                        1                     1  04/01/2005  ...   \n",
       "1                        1                     1  05/01/2005  ...   \n",
       "2                        2                     1  06/01/2005  ...   \n",
       "3                        1                     1  07/01/2005  ...   \n",
       "4                        1                     1  10/01/2005  ...   \n",
       "...                    ...                   ...         ...  ...   \n",
       "464692                   2                     1  07/12/2014  ...   \n",
       "464693                   2                     2  11/12/2014  ...   \n",
       "464694                   1                     1  09/12/2014  ...   \n",
       "464695                   3                     2  17/12/2014  ...   \n",
       "464696                   2                     2  24/12/2014  ...   \n",
       "\n",
       "            Pedestrian_Crossing-Physical_Facilities  \\\n",
       "0                                    Zebra crossing   \n",
       "1       Pedestrian phase at traffic signal junction   \n",
       "2             No physical crossing within 50 meters   \n",
       "3             No physical crossing within 50 meters   \n",
       "4             No physical crossing within 50 meters   \n",
       "...                                             ...   \n",
       "464692        No physical crossing within 50 meters   \n",
       "464693        No physical crossing within 50 meters   \n",
       "464694        No physical crossing within 50 meters   \n",
       "464695        No physical crossing within 50 meters   \n",
       "464696        No physical crossing within 50 meters   \n",
       "\n",
       "                               Light_Conditions          Weather_Conditions  \\\n",
       "0                Daylight: Street light present  Raining without high winds   \n",
       "1       Darkness: Street lights present and lit     Fine without high winds   \n",
       "2       Darkness: Street lights present and lit     Fine without high winds   \n",
       "3                Daylight: Street light present     Fine without high winds   \n",
       "4             Darkness: Street lighting unknown     Fine without high winds   \n",
       "...                                         ...                         ...   \n",
       "464692            Darkeness: No street lighting  Snowing without high winds   \n",
       "464693            Darkeness: No street lighting     Fine without high winds   \n",
       "464694  Darkness: Street lights present and lit     Fine without high winds   \n",
       "464695            Darkeness: No street lighting  Raining without high winds   \n",
       "464696           Daylight: Street light present     Fine without high winds   \n",
       "\n",
       "       Road_Surface_Conditions  Special_Conditions_at_Site  \\\n",
       "0                     Wet/Damp                        None   \n",
       "1                          Dry                        None   \n",
       "2                          Dry                        None   \n",
       "3                          Dry                        None   \n",
       "4                     Wet/Damp                        None   \n",
       "...                        ...                         ...   \n",
       "464692                    Snow                        None   \n",
       "464693                    Snow                        None   \n",
       "464694               Frost/Ice                        None   \n",
       "464695                Wet/Damp                        None   \n",
       "464696                Wet/Damp                        None   \n",
       "\n",
       "        Carriageway_Hazards Urban_or_Rural_Area  \\\n",
       "0                      None                   1   \n",
       "1                      None                   1   \n",
       "2                      None                   1   \n",
       "3                      None                   1   \n",
       "4                      None                   1   \n",
       "...                     ...                 ...   \n",
       "464692                 None                   2   \n",
       "464693                 None                   2   \n",
       "464694                 None                   2   \n",
       "464695                 None                   2   \n",
       "464696                 None                   2   \n",
       "\n",
       "        Did_Police_Officer_Attend_Scene_of_Accident  \\\n",
       "0                                               Yes   \n",
       "1                                               Yes   \n",
       "2                                               Yes   \n",
       "3                                               Yes   \n",
       "4                                               Yes   \n",
       "...                                             ...   \n",
       "464692                                          Yes   \n",
       "464693                                          Yes   \n",
       "464694                                          Yes   \n",
       "464695                                          Yes   \n",
       "464696                                          Yes   \n",
       "\n",
       "        LSOA_of_Accident_Location  Year  \n",
       "0                       E01002849  2005  \n",
       "1                       E01002909  2005  \n",
       "2                       E01002857  2005  \n",
       "3                       E01002840  2005  \n",
       "4                       E01002863  2005  \n",
       "...                           ...   ...  \n",
       "464692                        NaN  2014  \n",
       "464693                        NaN  2014  \n",
       "464694                        NaN  2014  \n",
       "464695                        NaN  2014  \n",
       "464696                        NaN  2014  \n",
       "\n",
       "[1504150 rows x 33 columns]"
      ]
     },
     "execution_count": 4,
     "metadata": {},
     "output_type": "execute_result"
    }
   ],
   "source": [
    "data = pd.concat([data_2005to2007,data_2009to2011,data_2012to2014],axis=0)\n",
    "data"
   ]
  },
  {
   "cell_type": "code",
   "execution_count": 5,
   "id": "10bbf3c8",
   "metadata": {},
   "outputs": [
    {
     "name": "stdout",
     "output_type": "stream",
     "text": [
      "Number of Row:1504150, Number of Column:33 for data\n"
     ]
    }
   ],
   "source": [
    "print(f\"Number of Row:{data.shape[0]}, Number of Column:{data.shape[1]} for data\")"
   ]
  },
  {
   "cell_type": "code",
   "execution_count": 6,
   "id": "375ebce7",
   "metadata": {},
   "outputs": [
    {
     "name": "stdout",
     "output_type": "stream",
     "text": [
      "<class 'pandas.core.frame.DataFrame'>\n",
      "Int64Index: 1504150 entries, 0 to 464696\n",
      "Data columns (total 33 columns):\n",
      " #   Column                                       Non-Null Count    Dtype  \n",
      "---  ------                                       --------------    -----  \n",
      " 0   Accident_Index                               1504150 non-null  object \n",
      " 1   Location_Easting_OSGR                        1504049 non-null  float64\n",
      " 2   Location_Northing_OSGR                       1504049 non-null  float64\n",
      " 3   Longitude                                    1504049 non-null  float64\n",
      " 4   Latitude                                     1504049 non-null  float64\n",
      " 5   Police_Force                                 1504150 non-null  int64  \n",
      " 6   Accident_Severity                            1504150 non-null  int64  \n",
      " 7   Number_of_Vehicles                           1504150 non-null  int64  \n",
      " 8   Number_of_Casualties                         1504150 non-null  int64  \n",
      " 9   Date                                         1504150 non-null  object \n",
      " 10  Day_of_Week                                  1504150 non-null  int64  \n",
      " 11  Time                                         1504033 non-null  object \n",
      " 12  Local_Authority_(District)                   1504150 non-null  int64  \n",
      " 13  Local_Authority_(Highway)                    1504150 non-null  object \n",
      " 14  1st_Road_Class                               1504150 non-null  int64  \n",
      " 15  1st_Road_Number                              1504150 non-null  int64  \n",
      " 16  Road_Type                                    1504150 non-null  object \n",
      " 17  Speed_limit                                  1504150 non-null  int64  \n",
      " 18  Junction_Detail                              0 non-null        float64\n",
      " 19  Junction_Control                             901315 non-null   object \n",
      " 20  2nd_Road_Class                               1504150 non-null  int64  \n",
      " 21  2nd_Road_Number                              1504150 non-null  int64  \n",
      " 22  Pedestrian_Crossing-Human_Control            1504133 non-null  object \n",
      " 23  Pedestrian_Crossing-Physical_Facilities      1504116 non-null  object \n",
      " 24  Light_Conditions                             1504150 non-null  object \n",
      " 25  Weather_Conditions                           1504024 non-null  object \n",
      " 26  Road_Surface_Conditions                      1502192 non-null  object \n",
      " 27  Special_Conditions_at_Site                   1504135 non-null  object \n",
      " 28  Carriageway_Hazards                          1504121 non-null  object \n",
      " 29  Urban_or_Rural_Area                          1504150 non-null  int64  \n",
      " 30  Did_Police_Officer_Attend_Scene_of_Accident  1501228 non-null  object \n",
      " 31  LSOA_of_Accident_Location                    1395912 non-null  object \n",
      " 32  Year                                         1504150 non-null  int64  \n",
      "dtypes: float64(5), int64(13), object(15)\n",
      "memory usage: 390.2+ MB\n"
     ]
    }
   ],
   "source": [
    "data.info()"
   ]
  },
  {
   "cell_type": "markdown",
   "id": "2d0af1e4",
   "metadata": {},
   "source": [
    "### Dropping Unused Columns"
   ]
  },
  {
   "cell_type": "code",
   "execution_count": 7,
   "id": "07d08c69",
   "metadata": {},
   "outputs": [
    {
     "data": {
      "text/plain": [
       "Index(['Accident_Severity', 'Number_of_Vehicles', 'Number_of_Casualties',\n",
       "       'Day_of_Week', 'Road_Type', 'Weather_Conditions',\n",
       "       'Road_Surface_Conditions', 'Urban_or_Rural_Area', 'Year'],\n",
       "      dtype='object')"
      ]
     },
     "execution_count": 7,
     "metadata": {},
     "output_type": "execute_result"
    }
   ],
   "source": [
    "edited_data = data.drop(['Accident_Index', 'Location_Easting_OSGR', 'Location_Northing_OSGR','Longitude',\n",
    "       'Latitude', 'Police_Force','Date','Local_Authority_(District)', 'Time','Local_Authority_(Highway)',\n",
    "       '1st_Road_Class', '1st_Road_Number', 'Speed_limit','Junction_Detail', 'Junction_Control', '2nd_Road_Class',\n",
    "       '2nd_Road_Number', 'Pedestrian_Crossing-Human_Control', 'Pedestrian_Crossing-Physical_Facilities', \n",
    "       'Light_Conditions','Special_Conditions_at_Site', 'Carriageway_Hazards','Did_Police_Officer_Attend_Scene_of_Accident',\n",
    "       'LSOA_of_Accident_Location'], axis=1)\n",
    "edited_data.columns"
   ]
  },
  {
   "cell_type": "markdown",
   "id": "b77393d6",
   "metadata": {},
   "source": [
    "### Data Cleaning"
   ]
  },
  {
   "cell_type": "code",
   "execution_count": 8,
   "id": "f5416a10",
   "metadata": {},
   "outputs": [
    {
     "data": {
      "text/plain": [
       "Accident_Severity             0\n",
       "Number_of_Vehicles            0\n",
       "Number_of_Casualties          0\n",
       "Day_of_Week                   0\n",
       "Road_Type                     0\n",
       "Weather_Conditions          126\n",
       "Road_Surface_Conditions    1958\n",
       "Urban_or_Rural_Area           0\n",
       "Year                          0\n",
       "dtype: int64"
      ]
     },
     "execution_count": 8,
     "metadata": {},
     "output_type": "execute_result"
    }
   ],
   "source": [
    "edited_data.isnull().sum()"
   ]
  },
  {
   "cell_type": "code",
   "execution_count": 9,
   "id": "78bfc56c",
   "metadata": {},
   "outputs": [
    {
     "data": {
      "text/plain": [
       "Accident_Severity          0\n",
       "Number_of_Vehicles         0\n",
       "Number_of_Casualties       0\n",
       "Day_of_Week                0\n",
       "Road_Type                  0\n",
       "Weather_Conditions         0\n",
       "Road_Surface_Conditions    0\n",
       "Urban_or_Rural_Area        0\n",
       "Year                       0\n",
       "dtype: int64"
      ]
     },
     "execution_count": 9,
     "metadata": {},
     "output_type": "execute_result"
    }
   ],
   "source": [
    "edited_data.dropna(inplace=True)\n",
    "edited_data.isnull().sum()"
   ]
  },
  {
   "cell_type": "code",
   "execution_count": 10,
   "id": "204f089e",
   "metadata": {},
   "outputs": [
    {
     "name": "stdout",
     "output_type": "stream",
     "text": [
      "Number of Row :1502070, Number of Column :9 for edited data\n"
     ]
    }
   ],
   "source": [
    "print(f\"Number of Row :{edited_data.shape[0]}, Number of Column :{edited_data.shape[1]} for edited data\")"
   ]
  },
  {
   "cell_type": "markdown",
   "id": "328c609b",
   "metadata": {},
   "source": [
    "---\n",
    "# Traffic Accidents Analysis\n",
    "\n",
    "### Number of Traffic Accidents Gradually Dropped By years"
   ]
  },
  {
   "cell_type": "code",
   "execution_count": 11,
   "id": "8d730b66",
   "metadata": {},
   "outputs": [
    {
     "data": {
      "text/plain": [
       "2005    198502\n",
       "2006    188930\n",
       "2007    181901\n",
       "2012    179441\n",
       "2009    163351\n",
       "2010    154192\n",
       "2011    151252\n",
       "2014    146100\n",
       "2013    138401\n",
       "Name: Year, dtype: int64"
      ]
     },
     "execution_count": 11,
     "metadata": {},
     "output_type": "execute_result"
    }
   ],
   "source": [
    "num_of_acc = edited_data[\"Year\"].value_counts() \n",
    "num_of_acc"
   ]
  },
  {
   "cell_type": "code",
   "execution_count": 12,
   "id": "d8ff1099",
   "metadata": {},
   "outputs": [
    {
     "data": {
      "image/png": "[encoded data removed]",
      "text/plain": [
       "<Figure size 432x288 with 1 Axes>"
      ]
     },
     "metadata": {
      "needs_background": "light"
     },
     "output_type": "display_data"
    }
   ],
   "source": [
    "years_arr = edited_data[\"Year\"].unique()\n",
    "num_acc_arr = num_of_acc.values\n",
    "\n",
    "sns.barplot(x = years_arr, y = num_acc_arr)\n",
    "plt.ylabel(\"Number of Accidents\",weight=\"bold\")\n",
    "plt.xlabel(\"Years\",weight=\"bold\")\n",
    "plt.title(\"Number of Accidents in U.K. by Year\",weight=\"bold\")\n",
    "plt.show()"
   ]
  },
  {
   "cell_type": "markdown",
   "id": "686f50e0",
   "metadata": {},
   "source": [
    "### How Do Weather Events Impact Roads?"
   ]
  },
  {
   "cell_type": "code",
   "execution_count": 13,
   "id": "c9a19507",
   "metadata": {},
   "outputs": [
    {
     "data": {
      "text/plain": [
       "Dry                          1034568\n",
       "Wet/Damp                      423460\n",
       "Frost/Ice                      31402\n",
       "Snow                           10497\n",
       "Flood (Over 3cm of water)       2143\n",
       "Name: Road_Surface_Conditions, dtype: int64"
      ]
     },
     "execution_count": 13,
     "metadata": {},
     "output_type": "execute_result"
    }
   ],
   "source": [
    "road_cond = edited_data[\"Road_Surface_Conditions\"].value_counts() #Accident Rate by Road Conditions\n",
    "road_cond"
   ]
  },
  {
   "cell_type": "code",
   "execution_count": 14,
   "id": "40aacd5e",
   "metadata": {},
   "outputs": [
    {
     "data": {
      "image/png": "[encoded data removed]",
      "text/plain": [
       "<Figure size 612x612 with 1 Axes>"
      ]
     },
     "metadata": {},
     "output_type": "display_data"
    }
   ],
   "source": [
    "road_cond_arr = edited_data[\"Road_Surface_Conditions\"].unique()\n",
    "road_num_acc_arr = road_cond.values\n",
    "\n",
    "plt.figure(figsize = (8.5,8.5))\n",
    "plt.pie(road_num_acc_arr, labels = road_cond_arr,colors = sns.color_palette(),textprops={'size': 'large'},explode=(0.01,0.01,0.01,0.1,0.3),autopct=\"%1.1f%%\")\n",
    "plt.legend(loc=\"upper right\")\n",
    "plt.title(\"Accident Rate by Road Conditions\",weight=\"bold\")\n",
    "plt.show()"
   ]
  },
  {
   "cell_type": "markdown",
   "id": "21dbec2c",
   "metadata": {},
   "source": [
    "### What Weather Conditions Cause the Most Traffic Accidents?"
   ]
  },
  {
   "cell_type": "code",
   "execution_count": 15,
   "id": "e13d85b7",
   "metadata": {},
   "outputs": [
    {
     "data": {
      "text/plain": [
       "Fine without high winds       1203589\n",
       "Raining without high winds     177651\n",
       "Other                           33441\n",
       "Unknown                         26783\n",
       "Raining with high winds         20812\n",
       "Fine with high winds            18348\n",
       "Snowing without high winds      11300\n",
       "Fog or mist                      8186\n",
       "Snowing with high winds          1960\n",
       "Name: Weather_Conditions, dtype: int64"
      ]
     },
     "execution_count": 15,
     "metadata": {},
     "output_type": "execute_result"
    }
   ],
   "source": [
    "weather_cond = edited_data[\"Weather_Conditions\"].value_counts() #Accident Rate by Weather Conditions\n",
    "weather_cond"
   ]
  },
  {
   "cell_type": "code",
   "execution_count": 16,
   "id": "08bb4c33",
   "metadata": {},
   "outputs": [
    {
     "data": {
      "image/png": "[encoded data removed]",
      "text/plain": [
       "<Figure size 612x612 with 1 Axes>"
      ]
     },
     "metadata": {},
     "output_type": "display_data"
    }
   ],
   "source": [
    "weather_cond_arr = edited_data[\"Weather_Conditions\"].unique()\n",
    "weather_num_acc_arr = weather_cond.values\n",
    "\n",
    "plt.figure(figsize = (8.5,8.5))\n",
    "plt.pie(weather_num_acc_arr, labels = weather_cond_arr,colors = sns.color_palette(),textprops={'size': 'large'},\n",
    "        explode=(0.01,0.01,0.01,0.01,0.01,0.10,0.30,0.50,0.7),autopct=\"%1.1f%%\")\n",
    "plt.legend(loc=\"upper right\")\n",
    "plt.title(\"Accident Rate by Weather Conditions\",weight=\"bold\")\n",
    "plt.show()"
   ]
  },
  {
   "cell_type": "markdown",
   "id": "d00eb25a",
   "metadata": {},
   "source": [
    "### Number of Casualties by Road Type in Traffic Accidents"
   ]
  },
  {
   "cell_type": "code",
   "execution_count": 17,
   "id": "f406b381",
   "metadata": {},
   "outputs": [
    {
     "data": {
      "text/plain": [
       "Road_Type\n",
       "Dual carriageway       328601\n",
       "One way street          36875\n",
       "Roundabout             126376\n",
       "Single carriageway    1505073\n",
       "Slip road               22185\n",
       "Unknown                 10369\n",
       "Name: Number_of_Casualties, dtype: int64"
      ]
     },
     "execution_count": 17,
     "metadata": {},
     "output_type": "execute_result"
    }
   ],
   "source": [
    "edited_data.groupby(['Road_Type'])[\"Number_of_Casualties\"].sum()"
   ]
  },
  {
   "cell_type": "code",
   "execution_count": 18,
   "id": "bf71092a",
   "metadata": {},
   "outputs": [
    {
     "data": {
      "image/png": "[encoded data removed]",
      "text/plain": [
       "<Figure size 1008x504 with 1 Axes>"
      ]
     },
     "metadata": {
      "needs_background": "light"
     },
     "output_type": "display_data"
    }
   ],
   "source": [
    "plt.figure(figsize = (14,7))\n",
    "sns.barplot(x=\"Year\",y=\"Number_of_Casualties\",data=edited_data,hue=\"Road_Type\")\n",
    "plt.title(\"Number of Casualties in U.K. by Year (Road Type)\",weight=\"bold\")\n",
    "plt.ylabel(\"Number of Casualties\",weight=\"bold\")\n",
    "plt.legend(loc=\"upper right\")\n",
    "plt.show()  "
   ]
  },
  {
   "cell_type": "markdown",
   "id": "c5d81b9a",
   "metadata": {},
   "source": [
    "### Average Number of Vehicles and Number of Casualties  by year"
   ]
  },
  {
   "cell_type": "code",
   "execution_count": 19,
   "id": "af994f73",
   "metadata": {},
   "outputs": [
    {
     "data": {
      "text/html": [
       "<div>\n",
       "<style scoped>\n",
       "    .dataframe tbody tr th:only-of-type {\n",
       "        vertical-align: middle;\n",
       "    }\n",
       "\n",
       "    .dataframe tbody tr th {\n",
       "        vertical-align: top;\n",
       "    }\n",
       "\n",
       "    .dataframe thead th {\n",
       "        text-align: right;\n",
       "    }\n",
       "</style>\n",
       "<table border=\"1\" class=\"dataframe\">\n",
       "  <thead>\n",
       "    <tr style=\"text-align: right;\">\n",
       "      <th></th>\n",
       "      <th>Number_of_Vehicles</th>\n",
       "      <th>Number_of_Casualties</th>\n",
       "    </tr>\n",
       "    <tr>\n",
       "      <th>Year</th>\n",
       "      <th></th>\n",
       "      <th></th>\n",
       "    </tr>\n",
       "  </thead>\n",
       "  <tbody>\n",
       "    <tr>\n",
       "      <th>2005</th>\n",
       "      <td>1.842843</td>\n",
       "      <td>1.363780</td>\n",
       "    </tr>\n",
       "    <tr>\n",
       "      <th>2006</th>\n",
       "      <td>1.840057</td>\n",
       "      <td>1.366231</td>\n",
       "    </tr>\n",
       "    <tr>\n",
       "      <th>2007</th>\n",
       "      <td>1.839391</td>\n",
       "      <td>1.360795</td>\n",
       "    </tr>\n",
       "    <tr>\n",
       "      <th>2009</th>\n",
       "      <td>1.826276</td>\n",
       "      <td>1.358333</td>\n",
       "    </tr>\n",
       "    <tr>\n",
       "      <th>2010</th>\n",
       "      <td>1.822507</td>\n",
       "      <td>1.351309</td>\n",
       "    </tr>\n",
       "    <tr>\n",
       "      <th>2011</th>\n",
       "      <td>1.823189</td>\n",
       "      <td>1.346627</td>\n",
       "    </tr>\n",
       "    <tr>\n",
       "      <th>2012</th>\n",
       "      <td>1.825480</td>\n",
       "      <td>1.346398</td>\n",
       "    </tr>\n",
       "    <tr>\n",
       "      <th>2013</th>\n",
       "      <td>1.824185</td>\n",
       "      <td>1.324911</td>\n",
       "    </tr>\n",
       "    <tr>\n",
       "      <th>2014</th>\n",
       "      <td>1.835359</td>\n",
       "      <td>1.329363</td>\n",
       "    </tr>\n",
       "  </tbody>\n",
       "</table>\n",
       "</div>"
      ],
      "text/plain": [
       "      Number_of_Vehicles  Number_of_Casualties\n",
       "Year                                          \n",
       "2005            1.842843              1.363780\n",
       "2006            1.840057              1.366231\n",
       "2007            1.839391              1.360795\n",
       "2009            1.826276              1.358333\n",
       "2010            1.822507              1.351309\n",
       "2011            1.823189              1.346627\n",
       "2012            1.825480              1.346398\n",
       "2013            1.824185              1.324911\n",
       "2014            1.835359              1.329363"
      ]
     },
     "execution_count": 19,
     "metadata": {},
     "output_type": "execute_result"
    }
   ],
   "source": [
    "edited_data.groupby(['Year'])[['Number_of_Vehicles','Number_of_Casualties']].mean()"
   ]
  },
  {
   "cell_type": "markdown",
   "id": "cff9bb13",
   "metadata": {},
   "source": [
    "### What kind of a relationship is there between the Number of Vehicles and the Number of Casualties in traffic accidents?"
   ]
  },
  {
   "cell_type": "code",
   "execution_count": 20,
   "id": "74bc44ed",
   "metadata": {},
   "outputs": [
    {
     "data": {
      "image/png": "[encoded data removed]",
      "text/plain": [
       "<Figure size 432x288 with 1 Axes>"
      ]
     },
     "metadata": {},
     "output_type": "display_data"
    }
   ],
   "source": [
    "sns.set_style(\"whitegrid\")\n",
    "sns.scatterplot(x=\"Number_of_Vehicles\",y=\"Number_of_Casualties\",data=edited_data)\n",
    "plt.title(\"Number of Vehicles and Number of Casualties Relationship\",weight=\"bold\")\n",
    "plt.show()"
   ]
  },
  {
   "cell_type": "markdown",
   "id": "c2f9ea2f",
   "metadata": {},
   "source": [
    "### Which Day of the Week Has the Most Traffic Accidents?"
   ]
  },
  {
   "cell_type": "code",
   "execution_count": 21,
   "id": "ca0e8025",
   "metadata": {},
   "outputs": [
    {
     "data": {
      "text/plain": [
       "6    246790\n",
       "5    226122\n",
       "4    226033\n",
       "3    223786\n",
       "2    213438\n",
       "7    201139\n",
       "1    164762\n",
       "Name: Day_of_Week, dtype: int64"
      ]
     },
     "execution_count": 21,
     "metadata": {},
     "output_type": "execute_result"
    }
   ],
   "source": [
    "edited_data[\"Day_of_Week\"].value_counts()"
   ]
  },
  {
   "cell_type": "code",
   "execution_count": 22,
   "id": "53ddf4ef",
   "metadata": {},
   "outputs": [
    {
     "data": {
      "image/png": "[encoded data removed]",
      "text/plain": [
       "<Figure size 432x288 with 1 Axes>"
      ]
     },
     "metadata": {},
     "output_type": "display_data"
    }
   ],
   "source": [
    "sns.countplot(x=\"Day_of_Week\",data=edited_data)\n",
    "plt.ylabel(\"Number of Accidents\",weight=\"bold\")\n",
    "plt.xlabel(\"Day of Week\",weight=\"bold\")\n",
    "plt.title(\"Number of Traffic Accidents by Day of Week\",weight=\"bold\")\n",
    "plt.show()"
   ]
  },
  {
   "cell_type": "markdown",
   "id": "77182722",
   "metadata": {},
   "source": [
    "### What is the Difference Between Urban and Rural Area Traffic Accidents Risks?"
   ]
  },
  {
   "cell_type": "code",
   "execution_count": 23,
   "id": "a8324619",
   "metadata": {},
   "outputs": [
    {
     "data": {
      "text/plain": [
       "1    970701\n",
       "2    531238\n",
       "3       131\n",
       "Name: Urban_or_Rural_Area, dtype: int64"
      ]
     },
     "execution_count": 23,
     "metadata": {},
     "output_type": "execute_result"
    }
   ],
   "source": [
    "edited_data[\"Urban_or_Rural_Area\"].value_counts()"
   ]
  },
  {
   "cell_type": "code",
   "execution_count": 24,
   "id": "633605f9",
   "metadata": {},
   "outputs": [
    {
     "data": {
      "image/png": "[encoded data removed]",
      "text/plain": [
       "<Figure size 432x288 with 1 Axes>"
      ]
     },
     "metadata": {},
     "output_type": "display_data"
    }
   ],
   "source": [
    "sns.countplot(x=\"Urban_or_Rural_Area\",data=edited_data)\n",
    "plt.ylabel(\"Number of Accidents\",weight=\"bold\")\n",
    "plt.xlabel(\"Urban(1) or Rural(2) Area\",weight=\"bold\")\n",
    "plt.title(\"Urban Area vs Rural Area\",weight=\"bold\")\n",
    "plt.show()"
   ]
  },
  {
   "cell_type": "markdown",
   "id": "a681c3f0",
   "metadata": {},
   "source": [
    "### What kind of a relationship is there between the Accident Severity and the Number of Casualties in traffic accidents?"
   ]
  },
  {
   "cell_type": "code",
   "execution_count": 25,
   "id": "f484fe08",
   "metadata": {},
   "outputs": [
    {
     "data": {
      "text/plain": [
       "1    970701\n",
       "2    531238\n",
       "3       131\n",
       "Name: Urban_or_Rural_Area, dtype: int64"
      ]
     },
     "execution_count": 25,
     "metadata": {},
     "output_type": "execute_result"
    }
   ],
   "source": [
    "edited_data[\"Urban_or_Rural_Area\"].value_counts()"
   ]
  },
  {
   "cell_type": "code",
   "execution_count": 26,
   "id": "98c6c1eb",
   "metadata": {},
   "outputs": [
    {
     "data": {
      "image/png": "[encoded data removed]",
      "text/plain": [
       "<Figure size 1008x504 with 1 Axes>"
      ]
     },
     "metadata": {},
     "output_type": "display_data"
    }
   ],
   "source": [
    "plt.figure(figsize = (14,7))\n",
    "sns.barplot(x=\"Year\",y=\"Number_of_Casualties\",data=edited_data,hue=\"Accident_Severity\")\n",
    "plt.title(\"Number of Casualties in U.K. by Year (Accident_Severity)\",weight=\"bold\")\n",
    "plt.ylabel(\"Number of Casualties\",weight=\"bold\")\n",
    "plt.legend(loc=\"upper right\")\n",
    "plt.show()  "
   ]
  },
  {
   "cell_type": "markdown",
   "id": "869e3362",
   "metadata": {},
   "source": [
    "### Correlation of columns in the edited dataset"
   ]
  },
  {
   "cell_type": "code",
   "execution_count": 27,
   "id": "3056ac5f",
   "metadata": {},
   "outputs": [
    {
     "name": "stdout",
     "output_type": "stream",
     "text": [
      "                      Accident_Severity  Number_of_Vehicles  \\\n",
      "Accident_Severity              1.000000            0.076007   \n",
      "Number_of_Vehicles             0.076007            1.000000   \n",
      "Number_of_Casualties          -0.083564            0.237340   \n",
      "Day_of_Week                    0.002956           -0.000120   \n",
      "Urban_or_Rural_Area           -0.082217            0.041084   \n",
      "Year                          -0.005922           -0.007788   \n",
      "\n",
      "                      Number_of_Casualties  Day_of_Week  Urban_or_Rural_Area  \\\n",
      "Accident_Severity                -0.083564     0.002956            -0.082217   \n",
      "Number_of_Vehicles                0.237340    -0.000120             0.041084   \n",
      "Number_of_Casualties              1.000000    -0.001475             0.115969   \n",
      "Day_of_Week                      -0.001475     1.000000            -0.016630   \n",
      "Urban_or_Rural_Area               0.115969    -0.016630             1.000000   \n",
      "Year                             -0.015096    -0.003674            -0.023735   \n",
      "\n",
      "                          Year  \n",
      "Accident_Severity    -0.005922  \n",
      "Number_of_Vehicles   -0.007788  \n",
      "Number_of_Casualties -0.015096  \n",
      "Day_of_Week          -0.003674  \n",
      "Urban_or_Rural_Area  -0.023735  \n",
      "Year                  1.000000  \n"
     ]
    },
    {
     "data": {
      "text/plain": [
       "<AxesSubplot:>"
      ]
     },
     "execution_count": 27,
     "metadata": {},
     "output_type": "execute_result"
    },
    {
     "data": {
      "image/png": "[encoded data removed]",
      "text/plain": [
       "<Figure size 432x288 with 2 Axes>"
      ]
     },
     "metadata": {},
     "output_type": "display_data"
    }
   ],
   "source": [
    "correlation=edited_data.corr()\n",
    "print(correlation)\n",
    "sns.heatmap(correlation)"
   ]
  },
  {
   "cell_type": "markdown",
   "id": "f3fd4d34",
   "metadata": {},
   "source": [
    "### Is the Number of Vehicles Involved in a Traffic Accident Directly Proportional to the Accident Severity?"
   ]
  },
  {
   "cell_type": "code",
   "execution_count": 28,
   "id": "a369acc0",
   "metadata": {},
   "outputs": [
    {
     "data": {
      "text/html": [
       "<div>\n",
       "<style scoped>\n",
       "    .dataframe tbody tr th:only-of-type {\n",
       "        vertical-align: middle;\n",
       "    }\n",
       "\n",
       "    .dataframe tbody tr th {\n",
       "        vertical-align: top;\n",
       "    }\n",
       "\n",
       "    .dataframe thead th {\n",
       "        text-align: right;\n",
       "    }\n",
       "</style>\n",
       "<table border=\"1\" class=\"dataframe\">\n",
       "  <thead>\n",
       "    <tr style=\"text-align: right;\">\n",
       "      <th></th>\n",
       "      <th>Number_of_Vehicles</th>\n",
       "    </tr>\n",
       "    <tr>\n",
       "      <th>Accident_Severity</th>\n",
       "      <th></th>\n",
       "    </tr>\n",
       "  </thead>\n",
       "  <tbody>\n",
       "    <tr>\n",
       "      <th>1</th>\n",
       "      <td>1.779419</td>\n",
       "    </tr>\n",
       "    <tr>\n",
       "      <th>2</th>\n",
       "      <td>1.681059</td>\n",
       "    </tr>\n",
       "    <tr>\n",
       "      <th>3</th>\n",
       "      <td>1.856551</td>\n",
       "    </tr>\n",
       "  </tbody>\n",
       "</table>\n",
       "</div>"
      ],
      "text/plain": [
       "                   Number_of_Vehicles\n",
       "Accident_Severity                    \n",
       "1                            1.779419\n",
       "2                            1.681059\n",
       "3                            1.856551"
      ]
     },
     "execution_count": 28,
     "metadata": {},
     "output_type": "execute_result"
    }
   ],
   "source": [
    "edited_data.groupby(['Accident_Severity'])[['Number_of_Vehicles']].mean()"
   ]
  },
  {
   "cell_type": "markdown",
   "id": "0881b43e",
   "metadata": {},
   "source": [
    "---\n",
    "# Accident Severity Estimation"
   ]
  },
  {
   "cell_type": "code",
   "execution_count": 29,
   "id": "35016fed",
   "metadata": {},
   "outputs": [
    {
     "data": {
      "text/html": [
       "<div>\n",
       "<style scoped>\n",
       "    .dataframe tbody tr th:only-of-type {\n",
       "        vertical-align: middle;\n",
       "    }\n",
       "\n",
       "    .dataframe tbody tr th {\n",
       "        vertical-align: top;\n",
       "    }\n",
       "\n",
       "    .dataframe thead th {\n",
       "        text-align: right;\n",
       "    }\n",
       "</style>\n",
       "<table border=\"1\" class=\"dataframe\">\n",
       "  <thead>\n",
       "    <tr style=\"text-align: right;\">\n",
       "      <th></th>\n",
       "      <th>Accident_Severity</th>\n",
       "      <th>Number_of_Vehicles</th>\n",
       "      <th>Number_of_Casualties</th>\n",
       "      <th>Day_of_Week</th>\n",
       "      <th>Road_Type</th>\n",
       "      <th>Weather_Conditions</th>\n",
       "      <th>Road_Surface_Conditions</th>\n",
       "      <th>Urban_or_Rural_Area</th>\n",
       "      <th>Year</th>\n",
       "    </tr>\n",
       "  </thead>\n",
       "  <tbody>\n",
       "    <tr>\n",
       "      <th>0</th>\n",
       "      <td>2</td>\n",
       "      <td>1</td>\n",
       "      <td>1</td>\n",
       "      <td>3</td>\n",
       "      <td>Single carriageway</td>\n",
       "      <td>Raining without high winds</td>\n",
       "      <td>Wet/Damp</td>\n",
       "      <td>1</td>\n",
       "      <td>2005</td>\n",
       "    </tr>\n",
       "    <tr>\n",
       "      <th>1</th>\n",
       "      <td>3</td>\n",
       "      <td>1</td>\n",
       "      <td>1</td>\n",
       "      <td>4</td>\n",
       "      <td>Dual carriageway</td>\n",
       "      <td>Fine without high winds</td>\n",
       "      <td>Dry</td>\n",
       "      <td>1</td>\n",
       "      <td>2005</td>\n",
       "    </tr>\n",
       "    <tr>\n",
       "      <th>2</th>\n",
       "      <td>3</td>\n",
       "      <td>2</td>\n",
       "      <td>1</td>\n",
       "      <td>5</td>\n",
       "      <td>Single carriageway</td>\n",
       "      <td>Fine without high winds</td>\n",
       "      <td>Dry</td>\n",
       "      <td>1</td>\n",
       "      <td>2005</td>\n",
       "    </tr>\n",
       "    <tr>\n",
       "      <th>3</th>\n",
       "      <td>3</td>\n",
       "      <td>1</td>\n",
       "      <td>1</td>\n",
       "      <td>6</td>\n",
       "      <td>Single carriageway</td>\n",
       "      <td>Fine without high winds</td>\n",
       "      <td>Dry</td>\n",
       "      <td>1</td>\n",
       "      <td>2005</td>\n",
       "    </tr>\n",
       "    <tr>\n",
       "      <th>4</th>\n",
       "      <td>3</td>\n",
       "      <td>1</td>\n",
       "      <td>1</td>\n",
       "      <td>2</td>\n",
       "      <td>Single carriageway</td>\n",
       "      <td>Fine without high winds</td>\n",
       "      <td>Wet/Damp</td>\n",
       "      <td>1</td>\n",
       "      <td>2005</td>\n",
       "    </tr>\n",
       "  </tbody>\n",
       "</table>\n",
       "</div>"
      ],
      "text/plain": [
       "   Accident_Severity  Number_of_Vehicles  Number_of_Casualties  Day_of_Week  \\\n",
       "0                  2                   1                     1            3   \n",
       "1                  3                   1                     1            4   \n",
       "2                  3                   2                     1            5   \n",
       "3                  3                   1                     1            6   \n",
       "4                  3                   1                     1            2   \n",
       "\n",
       "            Road_Type          Weather_Conditions Road_Surface_Conditions  \\\n",
       "0  Single carriageway  Raining without high winds                Wet/Damp   \n",
       "1    Dual carriageway     Fine without high winds                     Dry   \n",
       "2  Single carriageway     Fine without high winds                     Dry   \n",
       "3  Single carriageway     Fine without high winds                     Dry   \n",
       "4  Single carriageway     Fine without high winds                Wet/Damp   \n",
       "\n",
       "   Urban_or_Rural_Area  Year  \n",
       "0                    1  2005  \n",
       "1                    1  2005  \n",
       "2                    1  2005  \n",
       "3                    1  2005  \n",
       "4                    1  2005  "
      ]
     },
     "execution_count": 29,
     "metadata": {},
     "output_type": "execute_result"
    }
   ],
   "source": [
    "edited_data.head()"
   ]
  },
  {
   "cell_type": "markdown",
   "id": "c6bfab9e",
   "metadata": {},
   "source": [
    "### Transforming categorical variables"
   ]
  },
  {
   "cell_type": "code",
   "execution_count": 30,
   "id": "8bf89482",
   "metadata": {},
   "outputs": [
    {
     "data": {
      "text/plain": [
       "array(['Single carriageway', 'Dual carriageway', 'One way street',\n",
       "       'Roundabout', 'Slip road', 'Unknown'], dtype=object)"
      ]
     },
     "execution_count": 30,
     "metadata": {},
     "output_type": "execute_result"
    }
   ],
   "source": [
    "edited_data[\"Road_Type\"].unique()"
   ]
  },
  {
   "cell_type": "code",
   "execution_count": 31,
   "id": "48709553",
   "metadata": {},
   "outputs": [],
   "source": [
    "edited_data[\"Road_Type\"]=[1 if each == \"Single carriageway\" else 2\n",
    "                          if each == \"Dual carriageway\" else 3\n",
    "                          if each == \"One way street\" else 4\n",
    "                          if each == \"Roundabout\" else 5\n",
    "                          if each == \"Slip road\" else 6\n",
    "                          for each in edited_data[\"Road_Type\"]]"
   ]
  },
  {
   "cell_type": "code",
   "execution_count": 32,
   "id": "93aae85b",
   "metadata": {},
   "outputs": [
    {
     "data": {
      "text/plain": [
       "array(['Raining without high winds', 'Fine without high winds', 'Unknown',\n",
       "       'Snowing without high winds', 'Other', 'Fine with high winds',\n",
       "       'Raining with high winds', 'Fog or mist',\n",
       "       'Snowing with high winds'], dtype=object)"
      ]
     },
     "execution_count": 32,
     "metadata": {},
     "output_type": "execute_result"
    }
   ],
   "source": [
    "edited_data[\"Weather_Conditions\"].unique()"
   ]
  },
  {
   "cell_type": "code",
   "execution_count": 33,
   "id": "39673382",
   "metadata": {},
   "outputs": [],
   "source": [
    "edited_data[\"Weather_Conditions\"]=[1 if each == \"Raining without high winds\" else 2\n",
    "                          if each == \"Fine without high winds\" else 3\n",
    "                          if each == \"Unknown\" else 4\n",
    "                          if each == \"Snowing without high winds\" else 5\n",
    "                          if each == \"Other\" else 6\n",
    "                          if each == \"Fine with high winds\" else 7\n",
    "                          if each == \"Raining with high winds\" else 8\n",
    "                          if each == \"Fog or mist\" else 9         \n",
    "                          for each in edited_data[\"Weather_Conditions\"]]"
   ]
  },
  {
   "cell_type": "code",
   "execution_count": 34,
   "id": "e800d59e",
   "metadata": {},
   "outputs": [
    {
     "data": {
      "text/plain": [
       "array(['Wet/Damp', 'Dry', 'Frost/Ice', 'Snow',\n",
       "       'Flood (Over 3cm of water)'], dtype=object)"
      ]
     },
     "execution_count": 34,
     "metadata": {},
     "output_type": "execute_result"
    }
   ],
   "source": [
    "edited_data[\"Road_Surface_Conditions\"].unique()"
   ]
  },
  {
   "cell_type": "code",
   "execution_count": 35,
   "id": "92306889",
   "metadata": {},
   "outputs": [],
   "source": [
    "edited_data[\"Road_Surface_Conditions\"]=[1 if each == \"Wet/Damp\" else 2\n",
    "                          if each == \"Dry\" else 3\n",
    "                          if each == \"Frost/Ice\" else 4\n",
    "                          if each == \"Snow\" else 5       \n",
    "                          for each in edited_data[\"Road_Surface_Conditions\"]]"
   ]
  },
  {
   "cell_type": "code",
   "execution_count": 36,
   "id": "dce175ff",
   "metadata": {},
   "outputs": [
    {
     "data": {
      "text/html": [
       "<div>\n",
       "<style scoped>\n",
       "    .dataframe tbody tr th:only-of-type {\n",
       "        vertical-align: middle;\n",
       "    }\n",
       "\n",
       "    .dataframe tbody tr th {\n",
       "        vertical-align: top;\n",
       "    }\n",
       "\n",
       "    .dataframe thead th {\n",
       "        text-align: right;\n",
       "    }\n",
       "</style>\n",
       "<table border=\"1\" class=\"dataframe\">\n",
       "  <thead>\n",
       "    <tr style=\"text-align: right;\">\n",
       "      <th></th>\n",
       "      <th>Accident_Severity</th>\n",
       "      <th>Number_of_Vehicles</th>\n",
       "      <th>Number_of_Casualties</th>\n",
       "      <th>Day_of_Week</th>\n",
       "      <th>Road_Type</th>\n",
       "      <th>Weather_Conditions</th>\n",
       "      <th>Road_Surface_Conditions</th>\n",
       "      <th>Urban_or_Rural_Area</th>\n",
       "      <th>Year</th>\n",
       "    </tr>\n",
       "  </thead>\n",
       "  <tbody>\n",
       "    <tr>\n",
       "      <th>0</th>\n",
       "      <td>2</td>\n",
       "      <td>1</td>\n",
       "      <td>1</td>\n",
       "      <td>3</td>\n",
       "      <td>1</td>\n",
       "      <td>1</td>\n",
       "      <td>1</td>\n",
       "      <td>1</td>\n",
       "      <td>2005</td>\n",
       "    </tr>\n",
       "    <tr>\n",
       "      <th>1</th>\n",
       "      <td>3</td>\n",
       "      <td>1</td>\n",
       "      <td>1</td>\n",
       "      <td>4</td>\n",
       "      <td>2</td>\n",
       "      <td>2</td>\n",
       "      <td>2</td>\n",
       "      <td>1</td>\n",
       "      <td>2005</td>\n",
       "    </tr>\n",
       "    <tr>\n",
       "      <th>2</th>\n",
       "      <td>3</td>\n",
       "      <td>2</td>\n",
       "      <td>1</td>\n",
       "      <td>5</td>\n",
       "      <td>1</td>\n",
       "      <td>2</td>\n",
       "      <td>2</td>\n",
       "      <td>1</td>\n",
       "      <td>2005</td>\n",
       "    </tr>\n",
       "    <tr>\n",
       "      <th>3</th>\n",
       "      <td>3</td>\n",
       "      <td>1</td>\n",
       "      <td>1</td>\n",
       "      <td>6</td>\n",
       "      <td>1</td>\n",
       "      <td>2</td>\n",
       "      <td>2</td>\n",
       "      <td>1</td>\n",
       "      <td>2005</td>\n",
       "    </tr>\n",
       "    <tr>\n",
       "      <th>4</th>\n",
       "      <td>3</td>\n",
       "      <td>1</td>\n",
       "      <td>1</td>\n",
       "      <td>2</td>\n",
       "      <td>1</td>\n",
       "      <td>2</td>\n",
       "      <td>1</td>\n",
       "      <td>1</td>\n",
       "      <td>2005</td>\n",
       "    </tr>\n",
       "  </tbody>\n",
       "</table>\n",
       "</div>"
      ],
      "text/plain": [
       "   Accident_Severity  Number_of_Vehicles  Number_of_Casualties  Day_of_Week  \\\n",
       "0                  2                   1                     1            3   \n",
       "1                  3                   1                     1            4   \n",
       "2                  3                   2                     1            5   \n",
       "3                  3                   1                     1            6   \n",
       "4                  3                   1                     1            2   \n",
       "\n",
       "   Road_Type  Weather_Conditions  Road_Surface_Conditions  \\\n",
       "0          1                   1                        1   \n",
       "1          2                   2                        2   \n",
       "2          1                   2                        2   \n",
       "3          1                   2                        2   \n",
       "4          1                   2                        1   \n",
       "\n",
       "   Urban_or_Rural_Area  Year  \n",
       "0                    1  2005  \n",
       "1                    1  2005  \n",
       "2                    1  2005  \n",
       "3                    1  2005  \n",
       "4                    1  2005  "
      ]
     },
     "execution_count": 36,
     "metadata": {},
     "output_type": "execute_result"
    }
   ],
   "source": [
    "edited_data.head()"
   ]
  },
  {
   "cell_type": "markdown",
   "id": "48b3ca0c",
   "metadata": {},
   "source": [
    "### Determining Dependent and Independent Variable"
   ]
  },
  {
   "cell_type": "code",
   "execution_count": 37,
   "id": "3d697e1f",
   "metadata": {},
   "outputs": [],
   "source": [
    "y = edited_data[\"Accident_Severity\"].values #dependent variable\n",
    "x = edited_data.drop([\"Accident_Severity\"],axis=1).values #independent variable"
   ]
  },
  {
   "cell_type": "markdown",
   "id": "b7f16997",
   "metadata": {},
   "source": [
    "### Splitting  Dataset into Train and Test Sets"
   ]
  },
  {
   "cell_type": "code",
   "execution_count": 38,
   "id": "5102eb60",
   "metadata": {},
   "outputs": [
    {
     "name": "stdout",
     "output_type": "stream",
     "text": [
      "x_Train Shape: (1201656, 8)\n",
      "\n",
      "x_Test Shape: (300414, 8)\n",
      "\n",
      "y_Train Shape: (1201656,)\n",
      "\n",
      "y_Test Shape: (300414,)\n"
     ]
    }
   ],
   "source": [
    "# In this project, I did not use a validation set because I was not asked to use a validation set.\n",
    "from sklearn.model_selection import train_test_split \n",
    "x_train, x_test, y_train, y_test = train_test_split(x,y,test_size=0.20,random_state=1) # test:20% - train: 80%  \n",
    "print(f\"x_Train Shape: {x_train.shape}\\n\") \n",
    "print(f\"x_Test Shape: {x_test.shape}\\n\") \n",
    "print(f\"y_Train Shape: {y_train.shape}\\n\") \n",
    "print(f\"y_Test Shape: {y_test.shape}\") "
   ]
  },
  {
   "cell_type": "markdown",
   "id": "109cc592",
   "metadata": {},
   "source": [
    "### Scaling Data"
   ]
  },
  {
   "cell_type": "code",
   "execution_count": 39,
   "id": "3fbeb84d",
   "metadata": {},
   "outputs": [],
   "source": [
    "from sklearn.preprocessing import StandardScaler\n",
    "scaler = StandardScaler()\n",
    "\n",
    "X_train = scaler.fit_transform(x_train)\n",
    "X_test = scaler.transform(x_test) "
   ]
  },
  {
   "cell_type": "markdown",
   "id": "0fc7c205",
   "metadata": {},
   "source": [
    "### Training and Testing  with Models "
   ]
  },
  {
   "cell_type": "code",
   "execution_count": 41,
   "id": "5d51c4fd",
   "metadata": {},
   "outputs": [
    {
     "name": "stdout",
     "output_type": "stream",
     "text": [
      "[3 3 3 ... 3 3 3]\n",
      "[3 3 3 ... 3 3 3]\n",
      "\n",
      "[[    10      5   3853]\n",
      " [    13     23  40795]\n",
      " [    19     34 255662]] \n",
      "\n",
      "Accuracy :  0.851142090581664\n",
      "\n",
      "Precision :  0.7781428640986304\n",
      "\n",
      "Recall Score :  0.851142090581664\n",
      "\n",
      "F1 Score :  0.7829954585230663\n"
     ]
    }
   ],
   "source": [
    "from sklearn.linear_model import LogisticRegression\n",
    "LogR=LogisticRegression(solver=\"newton-cg\",penalty=\"none\") \n",
    "LogR.fit(X_train,y_train) \n",
    "y_pred=LogR.predict(X_test)\n",
    "print(f\"{y_pred}\\n{y_test}\\n\") \n",
    "\n",
    "from sklearn.metrics import confusion_matrix\n",
    "cm=confusion_matrix(y_test,y_pred)\n",
    "print(cm,\"\\n\")\n",
    "\n",
    "from sklearn.metrics import accuracy_score\n",
    "print(\"Accuracy : \",accuracy_score(y_test,y_pred))\n",
    "\n",
    "from sklearn.metrics import precision_score\n",
    "print(\"\\nPrecision : \",precision_score(y_test,y_pred,average=\"weighted\"))\n",
    "\n",
    "from sklearn.metrics import recall_score\n",
    "print(\"\\nRecall Score : \",recall_score(y_test,y_pred,average=\"weighted\"))\n",
    "\n",
    "from sklearn.metrics import f1_score \n",
    "print(\"\\nF1 Score : \",f1_score(y_test,y_pred,average=\"weighted\"))"
   ]
  },
  {
   "cell_type": "code",
   "execution_count": 43,
   "id": "bbd8c8a7",
   "metadata": {},
   "outputs": [
    {
     "name": "stdout",
     "output_type": "stream",
     "text": [
      "[3 3 3 ... 3 3 3]\n",
      "[3 3 3 ... 3 3 3] \n",
      "\n",
      "[[    29    119   3720]\n",
      " [    47    533  40251]\n",
      " [   129   1396 254190]] \n",
      "\n",
      "Accuracy :  0.8480030890704161\n",
      "\n",
      "Precision :  0.7628715366294327\n",
      "\n",
      "Recall Score :  0.8480030890704161\n",
      "\n",
      "F1 Score :  0.78485172907288\n"
     ]
    }
   ],
   "source": [
    "from sklearn.ensemble import RandomForestClassifier\n",
    "rfc=RandomForestClassifier(n_estimators=50,criterion=\"gini\",random_state=1)\n",
    "rfc.fit(x_train,y_train)\n",
    "\n",
    "y_predRfc=rfc.predict(x_test)\n",
    "print(y_predRfc)\n",
    "print(y_test,\"\\n\")\n",
    "\n",
    "cm=confusion_matrix(y_test,y_predRfc)\n",
    "print(cm,\"\\n\")\n",
    "\n",
    "print(\"Accuracy : \",accuracy_score(y_test,y_predRfc))\n",
    "\n",
    "\n",
    "from sklearn.metrics import precision_score\n",
    "print(\"\\nPrecision : \",precision_score(y_test,y_predRfc,average=\"weighted\"))\n",
    "\n",
    "from sklearn.metrics import recall_score\n",
    "print(\"\\nRecall Score : \",recall_score(y_test,y_predRfc,average=\"weighted\"))\n",
    "\n",
    "\n",
    "from sklearn.metrics import f1_score \n",
    "print(\"\\nF1 Score : \",f1_score(y_test,y_predRfc,average=\"weighted\"))"
   ]
  },
  {
   "cell_type": "markdown",
   "id": "31479326",
   "metadata": {},
   "source": [
    "**I might be overfitting.So to test if we are doing great or it is just overfitting,we must have another dataset to check the result.**"
   ]
  }
 ],
 "metadata": {
  "kernelspec": {
   "display_name": "Python 3",
   "language": "python",
   "name": "python3"
  },
  "language_info": {
   "codemirror_mode": {
    "name": "ipython",
    "version": 3
   },
   "file_extension": ".py",
   "mimetype": "text/x-python",
   "name": "python",
   "nbconvert_exporter": "python",
   "pygments_lexer": "ipython3",
   "version": "3.8.8"
  }
 },
 "nbformat": 4,
 "nbformat_minor": 5
}
